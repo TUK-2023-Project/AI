{
 "cells": [
  {
   "cell_type": "code",
   "execution_count": 2,
   "id": "5bba6d13",
   "metadata": {},
   "outputs": [
    {
     "name": "stdout",
     "output_type": "stream",
     "text": [
      "Requirement already satisfied: pillow in /Users/jeongtaewon/opt/anaconda3/lib/python3.7/site-packages (9.3.0)\n",
      "Note: you may need to restart the kernel to use updated packages.\n"
     ]
    }
   ],
   "source": [
    "pip install pillow"
   ]
  },
  {
   "cell_type": "code",
   "execution_count": 2,
   "id": "a1789521",
   "metadata": {},
   "outputs": [],
   "source": [
    "import cv2\n",
    "import mediapipe as mp\n",
    "import numpy as np\n",
    "import time, os\n",
    "from PIL import ImageFont, ImageDraw, Image"
   ]
  },
  {
   "cell_type": "code",
   "execution_count": null,
   "id": "31d8d4d3",
   "metadata": {},
   "outputs": [
    {
     "name": "stderr",
     "output_type": "stream",
     "text": [
      "INFO: Created TensorFlow Lite XNNPACK delegate for CPU.\n"
     ]
    }
   ],
   "source": [
    "max_num_hands=1\n",
    "gesture={\n",
    "    0:'a',1:'b',2:'c',3:'d',4:'e',5:'f',6:'g',7:'h',\n",
    "    8:'i',9:'j',10:'k',11:'l',12:'m',13:'n'\n",
    "}\n",
    "rps_gesture={\n",
    "    0:'ㄱ',1:'ㄴ',2:'ㄷ',3:'ㄹ',4:'ㅁ',5:'ㅂ',6:'ㅅ',7:'ㅇ',\n",
    "    8:'ㅈ',9:'ㅊ',10:'ㅋ',11:'ㅌ',12:'ㅍ',13:'ㅎ', 25:'done',26:'spacing',27:'clear'\n",
    "}\n",
    "# rps_gesture={\n",
    "#     0:'a',1:'b',2:'c',3:'d',4:'e',5:'f',6:'g',7:'h',\n",
    "#     8:'i',9:'j',10:'k',11:'l',12:'m',13:'n', 25:'done',26:'spacing',27:'clear'\n",
    "# }\n",
    "\n",
    "#MediaPipe hands model\n",
    "mp_hands=mp.solutions.hands\n",
    "mp_drawing=mp.solutions.drawing_utils\n",
    "hands=mp_hands.Hands(\n",
    "    max_num_hands=max_num_hands,\n",
    "    min_detection_confidence=0.5,\n",
    "    min_tracking_confidence=0.5\n",
    ")\n",
    "\n",
    "#Gesture recognition model\n",
    "file = np.genfromtxt('dataSet.txt', delimiter=',')\n",
    "angle = file[:,:-1].astype(np.float32)\n",
    "label = file[:, -1].astype(np.float32)\n",
    "knn = cv2.ml.KNearest_create()\n",
    "knn.train(angle, cv2.ml.ROW_SAMPLE, label)\n",
    "\n",
    "cap = cv2.VideoCapture(0)\n",
    "\n",
    "#한국어 인식함수\n",
    "def myPutText(src,text,pos,font_size,font_color):\n",
    "    img_pil=Image.fromarray(src)\n",
    "    draw=ImageDraw.Draw(img_pil)\n",
    "    font=ImageFont.truetype('한국기계연구원_bold.ttf',font_size)\n",
    "    draw.text(pos,text,font=font,fill=font_color)\n",
    "    return np.array(img_pil)\n",
    "    \n",
    "img=np.zeros((480,640,3),dtype=np.uint8)\n",
    "FONT_SIZE=50\n",
    "COLOR=(0,0,0) #흰색\n",
    "\n",
    "while cap.isOpened():\n",
    "    ret, img = cap.read()\n",
    "    if not ret:\n",
    "        continue\n",
    "\n",
    "    img = cv2.flip(img, 1)\n",
    "    img = cv2.cvtColor(img, cv2.COLOR_BGR2RGB)\n",
    "\n",
    "    result = hands.process(img)\n",
    "\n",
    "    img = cv2.cvtColor(img, cv2.COLOR_RGB2BGR)\n",
    "\n",
    "    # 점과 점 사이의 뺄셈 연산을 통해 많은 벡터 만들어냄\n",
    "    if result.multi_hand_landmarks:\n",
    "        for res in result.multi_hand_landmarks: #여러 개의 손을 인식할 수 있으므로, for문 반복\n",
    "            joint = np.zeros((21, 3)) \n",
    "            for j, lm in enumerate(res.landmark):\n",
    "                joint[j] = [lm.x, lm.y, lm.z]\n",
    "\n",
    "            # Compute angles between joints\n",
    "            v1 = joint[[0,1,2,3,0,5,6,7,0,9,10,11,0,13,14,15,0,17,18,19],:] # Parent joint\n",
    "            v2 = joint[[1,2,3,4,5,6,7,8,9,10,11,12,13,14,15,16,17,18,19,20],:] # Child joint\n",
    "            v = v2 - v1 # [20,3]\n",
    "            # Normalize v\n",
    "            v = v / np.linalg.norm(v, axis=1)[:, np.newaxis]\n",
    "\n",
    "            # Get angle using arcos of dot product\n",
    "            angle = np.arccos(np.einsum('nt,nt->n',\n",
    "                v[[0,1,2,4,5,6,8,9,10,12,13,14,16,17,18],:], \n",
    "                v[[1,2,3,5,6,7,9,10,11,13,14,15,17,18,19],:])) # [15,]\n",
    "\n",
    "            angle = np.degrees(angle) # Convert radian to degree\n",
    "\n",
    "            # Inference gesture\n",
    "            data = np.array([angle], dtype=np.float32)\n",
    "            ret, results, neighbours, dist = knn.findNearest(data, 3)\n",
    "            idx = int(results[0][0])\n",
    "\n",
    "            # Draw gesture result\n",
    "            if idx in rps_gesture.keys():\n",
    "                img=myPutText(img,'인식된 지문자는 :' + rps_gesture[idx],(20, 100),FONT_SIZE,(0,0,0))\n",
    "#                 cv2.putText(img, text=rps_gesture[idx].upper(), org=(int(res.landmark[0].x * img.shape[1]), int(res.landmark[0].y * img.shape[0] + 20)), fontFace=cv2.FONT_HERSHEY_SIMPLEX,font=font, fontScale=5, color=(255, 255, 255), thickness=2)\n",
    "                \n",
    "\n",
    "            # Other gestures\n",
    "            # cv2.putText(img, text=gesture[idx].upper(), org=(int(res.landmark[0].x * img.shape[1]), int(res.landmark[0].y * img.shape[0] + 20)), fontFace=cv2.FONT_HERSHEY_SIMPLEX, fontScale=1, color=(255, 255, 255), thickness=2)\n",
    "\n",
    "            mp_drawing.draw_landmarks(img, res, mp_hands.HAND_CONNECTIONS)\n",
    "\n",
    "    cv2.imshow('text', img)\n",
    "    if cv2.waitKey(1) == ord('q'):\n",
    "        break"
   ]
  },
  {
   "cell_type": "code",
   "execution_count": null,
   "id": "9606b50c",
   "metadata": {},
   "outputs": [],
   "source": []
  },
  {
   "cell_type": "code",
   "execution_count": null,
   "id": "64cc3516",
   "metadata": {},
   "outputs": [],
   "source": []
  }
 ],
 "metadata": {
  "kernelspec": {
   "display_name": "Python 3 (ipykernel)",
   "language": "python",
   "name": "python3"
  },
  "language_info": {
   "codemirror_mode": {
    "name": "ipython",
    "version": 3
   },
   "file_extension": ".py",
   "mimetype": "text/x-python",
   "name": "python",
   "nbconvert_exporter": "python",
   "pygments_lexer": "ipython3",
   "version": "3.7.15"
  }
 },
 "nbformat": 4,
 "nbformat_minor": 5
}
