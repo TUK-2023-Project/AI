{
 "cells": [
  {
   "cell_type": "code",
   "execution_count": 11,
   "id": "170e3698",
   "metadata": {},
   "outputs": [
    {
     "name": "stdout",
     "output_type": "stream",
     "text": [
      "ㅇ\n"
     ]
    }
   ],
   "source": [
    "import cv2\n",
    "import numpy as np\n",
    "\n",
    "\n",
    "gesture = {\n",
    "    0:'ㄱ', 1:'ㄴ', 2:'ㄷ' , 3:'ㄹ' , 4:'ㅁ' , 5:'ㅂ', 6:'ㅅ', 7:'ㅇ', 8:'ㅈ', 9:'ㅊ', 10:'ㅋ', 11:'ㅌ', 12:'ㅍ',\n",
    "    13:'ㅎ',\n",
    "}\n",
    "\n",
    "\n",
    "# 모델 생성 (향후 분리할 필요 있음)\n",
    "file = np.genfromtxt('dataSet/confine_data.csv', delimiter=',')\n",
    "angle = file[:,:-1].astype(np.float32)\n",
    "label = file[:, -1].astype(np.float32)\n",
    "knn = cv2.ml.KNearest_create()\n",
    "knn.train(angle, cv2.ml.ROW_SAMPLE, label)\n",
    "cap = cv2.VideoCapture(0)\n",
    "count = 1\n",
    "\n",
    "frontData = [\n",
    "[ 6.18816614e-01,  9.36991632e-01, -3.83637115e-07],\n",
    "[ 0.57805794,  0.94313419 ,-0.02203732],\n",
    "[ 0.53661525,  0.93871832 ,-0.05036191],\n",
    "[ 0.4971875 ,  0.92944252 ,-0.07937451],\n",
    "[ 0.46762967 , 0.89560771 ,-0.10999113],\n",
    "[ 0.58766997  ,0.80343217 ,-0.05202853],\n",
    "[ 0.53978252  ,0.77438569 ,-0.0760456 ],\n",
    "[ 0.50237685  ,0.81324083 ,-0.09143702],\n",
    "[ 0.47958815  ,0.85191685 ,-0.10228593],\n",
    "[ 0.61273897 , 0.78064162 ,-0.05978587],\n",
    "[ 0.56673312 , 0.67647696 ,-0.08282758],\n",
    "[ 0.52877784 , 0.61883891 ,-0.1030723 ],\n",
    "[ 0.49929228 , 0.56899476 ,-0.12137949],\n",
    "[ 0.6367141  , 0.77880192 ,-0.06743598],\n",
    "[ 0.60782295 , 0.67702293 ,-0.0992025 ],\n",
    "[ 0.58191657 , 0.60108459 ,-0.12220884],\n",
    "[ 0.55817086 , 0.53453904 ,-0.13887297],\n",
    "[ 0.65907645 , 0.79647201 ,-0.07482422],\n",
    "[ 0.64783442 , 0.74745983 ,-0.10262092],\n",
    "[ 0.63315511 , 0.70945299 ,-0.11310611],\n",
    "[ 0.61312377 , 0.66045773 ,-0.12178784],\n",
    "]\n",
    "\n",
    "\n",
    "# \"o\" 손동작의 값을 임시로 넣은 테스트용 데이터\n",
    "        \n",
    "\n",
    "joint = np.zeros((21, 3))\n",
    "for i in range(len(frontData)):\n",
    "    joint[i] = frontData[i][:]\n",
    "\n",
    "\n",
    "# 각 랜드마크의 좌표 계산\n",
    "v1 = joint[[0,1,2,3,0,5,6,7,0,9,10,11,0,13,14,15,0,17,18,19],:] # Parent joint\n",
    "v2 = joint[[1,2,3,4,5,6,7,8,9,10,11,12,13,14,15,16,17,18,19,20],:] # Child joint\n",
    "v = v2 - v1 # [20,3]\n",
    "# 정규화\n",
    "v = v / np.linalg.norm(v, axis=1)[:, np.newaxis]\n",
    "\n",
    "# Get angle using arcos of dot product\n",
    "angle = np.arccos(np.einsum('nt,nt->n',\n",
    "    v[[0,1,2,4,5,6,8,9,10,12,13,14,16,17,18],:], \n",
    "    v[[1,2,3,5,6,7,9,10,11,13,14,15,17,18,19],:])) # [15,]\n",
    "\n",
    "angle = np.degrees(angle) # Convert radian to degree\n",
    "\n",
    "# Inference gesture\n",
    "data = np.array([angle], dtype=np.float32)\n",
    "ret, results, neighbours, dist = knn.findNearest(data, 3)\n",
    "idx = int(results[0][0])\n",
    "\n",
    "print(gesture[idx])"
   ]
  },
  {
   "cell_type": "code",
   "execution_count": null,
   "id": "9bf1e772",
   "metadata": {},
   "outputs": [],
   "source": []
  },
  {
   "cell_type": "code",
   "execution_count": null,
   "id": "9ffd49d0",
   "metadata": {},
   "outputs": [],
   "source": []
  }
 ],
 "metadata": {
  "kernelspec": {
   "display_name": "Python 3 (ipykernel)",
   "language": "python",
   "name": "python3"
  },
  "language_info": {
   "codemirror_mode": {
    "name": "ipython",
    "version": 3
   },
   "file_extension": ".py",
   "mimetype": "text/x-python",
   "name": "python",
   "nbconvert_exporter": "python",
   "pygments_lexer": "ipython3",
   "version": "3.7.15"
  }
 },
 "nbformat": 4,
 "nbformat_minor": 5
}
